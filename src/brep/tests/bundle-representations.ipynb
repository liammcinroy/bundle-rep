{
 "cells": [
  {
   "cell_type": "markdown",
   "metadata": {},
   "source": [
    "# Fiber Bundle Representations"
   ]
  },
  {
   "cell_type": "code",
   "execution_count": 2,
   "metadata": {},
   "outputs": [],
   "source": [
    "import numpy as np\n",
    "\n",
    "import tensorflow as tf\n",
    "from tensorflow import keras\n",
    "from tensorflow.keras.models import Sequential\n",
    "from tensorflow.keras.layers import Concatenate, Dense, Input\n",
    "from tensorflow.keras.optimizers import RMSprop"
   ]
  },
  {
   "cell_type": "code",
   "execution_count": 3,
   "metadata": {},
   "outputs": [],
   "source": [
    "%load_ext tikzmagic"
   ]
  },
  {
   "cell_type": "markdown",
   "metadata": {},
   "source": [
    "This notebook examines Fiber Bundles as State Representations. At a high level, fiber bundle state representations attempt to model the state $\\mathcal{X}$ of a reinforcement learning task with action space $\\mathcal{A}$, reward $\\rho : \\mathcal{X} \\times \\mathcal{A} \\to \\mathbf{R}$, and transition $P: \\mathcal{X} \\times \\mathcal{A} \\to \\mathcal{X}$ through a fiber bundle of $\\mathcal{X}$ over task-relevant information $\\mathcal{S}$ and task-irrelevant information $\\mathcal{W}$ manifolds, such that the reward and transition factor through $\\mathcal{S}$ as illustrated below."
   ]
  },
  {
   "cell_type": "code",
   "execution_count": 4,
   "metadata": {},
   "outputs": [
    {
     "data": {
      "image/png": "[encoded data removed]"
     },
     "metadata": {},
     "output_type": "display_data"
    }
   ],
   "source": [
    "%%tikz -p amsmath -p tikz-cd\n",
    "\n",
    "\\draw node at (0, 0){\n",
    "    \\begin{tikzcd}\n",
    "        \\mathcal{X} \\times \\mathcal{A} \\arrow[rr, \"\\rho\"] \\arrow[dr, \"\\pi \\times \\mathrm{id}_\\mathcal{A}\"] & & \\mathbf{R} & & & \\mathcal{X} \\times \\mathcal{A} \\arrow[r, \"P\"] \\arrow[d, \"\\pi \\times \\mathrm{id}_\\mathcal{A}\"] &  \\mathcal{X} \\arrow[d, \"\\pi\"] \\\\\n",
    "        & \\mathcal{S} \\times \\mathcal{A} \\arrow[ur, \"\\hat{\\rho}\"] & & & & \\mathcal{S} \\times \\mathcal{A} \\arrow[r, \"\\hat{P}\"] & \\mathcal{S}\n",
    "    \\end{tikzcd}\n",
    "};"
   ]
  },
  {
   "cell_type": "markdown",
   "metadata": {},
   "source": [
    "Fiber bundles attempt to form the state representation by implicitly learning the fiber bundle, its submersions onto $\\mathcal{S}$ and $\\mathcal{W}$, and the lift from both back to $\\mathcal{X}$ by constructing approximation manifolds $\\mathcal{S}_\\phi$ and $\\mathcal{W}_\\phi$ dictated by $\\phi : \\mathcal{X} \\to \\mathcal{S}_\\phi$ and $\\omega_\\phi : \\mathcal{X} \\to \\mathcal{W}_\\phi$."
   ]
  },
  {
   "cell_type": "code",
   "execution_count": 5,
   "metadata": {},
   "outputs": [
    {
     "data": {
      "image/png": "[encoded data removed]"
     },
     "metadata": {},
     "output_type": "display_data"
    }
   ],
   "source": [
    "%%tikz -p amsmath -p tikz-cd\n",
    "\n",
    "\\draw node at (0, 0){\n",
    "    \\begin{tikzcd}\n",
    "        & \\mathcal{W}_\\phi \\arrow[dr, \"\\mathrm{proj}\", end anchor={[xshift=-4ex,yshift=2ex]east}, bend left]\\\\\n",
    "    \\mathcal{X} \\arrow[ur, \"\\omega_\\phi\"] \\arrow[dr, \"\\phi\"] & & \\mathcal{S}_\\phi \\times \\mathcal{W}_\\phi \\rar{\\mathrm{lift}} & \\mathcal{X} \\\\\n",
    "        & \\mathcal{S}_\\phi \\arrow[ur, \"\\mathrm{proj}\", bend right, end anchor={[xshift=2ex, yshift=-2ex]west}]\n",
    "    \\end{tikzcd}\n",
    "};"
   ]
  },
  {
   "cell_type": "markdown",
   "metadata": {},
   "source": [
    "We prove that if such $\\mathcal{S}$ exists, then it is unique up to isometry. From this property, we can derive several loss functions which when minimized would produce $\\mathcal{S} \\simeq \\mathcal{S}_\\phi$. We cover the first of these, based on [Plan2Vec](https://arxiv.org/pdf/2005.03648.pdf) below."
   ]
  },
  {
   "cell_type": "markdown",
   "metadata": {},
   "source": [
    "## Bundle Representation Plan2Vec Loss"
   ]
  },
  {
   "cell_type": "code",
   "execution_count": 6,
   "metadata": {},
   "outputs": [],
   "source": [
    "from bundle_arch import BRepPlan2VecEstimator"
   ]
  },
  {
   "cell_type": "markdown",
   "metadata": {},
   "source": [
    "We begin with an elementary example where $\\mathcal{X} = \\mathbf{R}^2$ and $\\mathcal{S}$ is the first coordinate and $\\mathcal{W}$ is the second coordinate. We construct the following simple Tensorflow model to illustrate the Bundle Representatino loss."
   ]
  },
  {
   "cell_type": "code",
   "execution_count": 7,
   "metadata": {},
   "outputs": [],
   "source": [
    "## First we must define the distance functions on both X and S\n",
    "def simple_rep_dist(self, x1, x2):\n",
    "    \"\"\"The desired representation distance for test_simple (l2)\n",
    "    Arguments:\n",
    "        x1: a tf tensor\n",
    "        x2: a tf tensor of the same shape as x1\n",
    "    \"\"\"\n",
    "    return tf.math.sqrt(\n",
    "        tf.math.reduce_sum(tf.math.square(x1[:, 0] - x2[:, 0]), axis=1))\n",
    "\n",
    "def simple_input_dist(self, x1, x2):\n",
    "    \"\"\"The desired input distance for test_simple (l2)\n",
    "    Arguments:\n",
    "        x1: a tf tensor\n",
    "        x2: a tf tensor of the same shape as x1\n",
    "    \"\"\"\n",
    "    return tf.math.sqrt(tf.math.reduce_sum(tf.math.square(x1 - x2),\n",
    "                                           axis=1))"
   ]
  },
  {
   "cell_type": "code",
   "execution_count": 8,
   "metadata": {},
   "outputs": [],
   "source": [
    "## Now we define our desired architecture\n",
    "inp = Input(shape=(2,), name='X')\n",
    "rep = Dense(1, activation='relu', name='S')(inp)  # want first\n",
    "fiber = Dense(1, activation='relu', name='W')(inp)  # want second\n",
    "rep_inp = Input(shape=(1,), name='S_out')\n",
    "fiber_inp = Input(shape=(1,), name='W_out')\n",
    "con = Concatenate(name='SxW')([rep_inp, fiber_inp])\n",
    "hid2 = Dense(2, activation='relu', name='lift')(con)  # want identity\n",
    "outp = Dense(2, activation='relu', name='Xreconstr')(hid2)\n",
    "\n",
    "rep_model = tf.keras.Model(inputs=inp, outputs=rep, name='rep')\n",
    "fiber_model = tf.keras.Model(inputs=inp, outputs=fiber, name='fiber')\n",
    "reconstr_model = tf.keras.Model(inputs=[rep_inp, fiber_inp],\n",
    "                                outputs=[outp], name='reconstr')\n",
    "reconstr_model.compile(loss=keras.losses.mean_squared_error,\n",
    "                       optimizer=RMSprop())\n",
    "\n",
    "model = BRepPlan2VecEstimator(rep_model=rep_model,\n",
    "                              fiber_model=fiber_model,\n",
    "                              reconstr_model=reconstr_model,\n",
    "                              rep_dist=simple_rep_dist,\n",
    "                              input_dist=simple_input_dist,\n",
    "                              loss_w=1, optimizer=RMSprop(),\n",
    "                              epochs=1, batch_size=100)"
   ]
  },
  {
   "cell_type": "markdown",
   "metadata": {},
   "source": [
    "Let's compare the data flow graphs of the train model and test model:"
   ]
  },
  {
   "cell_type": "code",
   "execution_count": 9,
   "metadata": {},
   "outputs": [
    {
     "name": "stdout",
     "output_type": "stream",
     "text": [
      "env: PATH=../../../env/bin:$PATH\n"
     ]
    }
   ],
   "source": [
    "%load_ext tensorboard\n",
    "%env PATH=../../../env/bin:$PATH\n",
    "import datetime"
   ]
  },
  {
   "cell_type": "code",
   "execution_count": 10,
   "metadata": {},
   "outputs": [
    {
     "name": "stdout",
     "output_type": "stream",
     "text": [
      "99/99 [==============================] - 0s 2ms/step - loss: 0.1184 - reconstr_loss: 0.1184 - reconstruction_loss: 0.0000e+00 - bundle_representation_loss: 0.0000e+00\n"
     ]
    },
    {
     "name": "stderr",
     "output_type": "stream",
     "text": [
      "/home/liam/harvard/research/bundle-rep/github/bundle-rep/env/lib/python3.6/site-packages/sklearn/base.py:213: FutureWarning: From version 0.24, get_params will raise an AttributeError if a parameter cannot be retrieved as an instance attribute. Previously it would return None.\n",
      "  FutureWarning)\n"
     ]
    },
    {
     "data": {
      "text/plain": [
       "BRepPlan2VecEstimator(batch_size=100, epochs=1,\n",
       "                      fiber_model=<tensorflow.python.keras.engine.training.Model object at 0x7f7ae426e4a8>,\n",
       "                      input_dist=<function simple_input_dist at 0x7f7ae45269d8>,\n",
       "                      loss_w=1,\n",
       "                      optimizer=<tensorflow.python.keras.optimizer_v2.rmsprop.RMSprop object at 0x7f7ae42cd588>,\n",
       "                      reconstr_model=<tensorflow.python.keras.engine.training.Model object at 0x7f7ae42183c8>,\n",
       "                      rep_dist=<function simple_rep_dist at 0x7f7ae4526950>,\n",
       "                      rep_model=<tensorflow.python.keras.engine.training.Model object at 0x7f7ae42cdfd0>)"
      ]
     },
     "execution_count": 10,
     "metadata": {},
     "output_type": "execute_result"
    }
   ],
   "source": [
    "# Define the training data (note that distances are implicit previously)\n",
    "X = np.array([[x1, x2]\n",
    "              for x1 in np.linspace(0, 1, 10)\n",
    "              for x2 in np.linspace(0, 1, 10)]).reshape(100, 2)\n",
    "\n",
    "# Define the Keras TensorBoard callback.\n",
    "logdir=\"logs/fit/\" + datetime.datetime.now().strftime(\"%Y%m%d-%H%M%S\")\n",
    "tensorboard_callback = keras.callbacks.TensorBoard(log_dir=logdir)\n",
    "\n",
    "# With the given setup, then the trained model should be able to\n",
    "# reconstruct the input and rep = inp[0] and fiber = inp[1]\n",
    "tf.random.set_seed(0)\n",
    "model.fit(X, verbose=1, callbacks=[tensorboard_callback])"
   ]
  },
  {
   "cell_type": "code",
   "execution_count": 11,
   "metadata": {},
   "outputs": [
    {
     "data": {
      "text/plain": [
       "Reusing TensorBoard on port 6006 (pid 4480), started 0:09:43 ago. (Use '!kill 4480' to kill it.)"
      ]
     },
     "metadata": {},
     "output_type": "display_data"
    },
    {
     "data": {
      "text/html": [
       "\n",
       "      <iframe id=\"tensorboard-frame-7c1aecdc9535547c\" width=\"100%\" height=\"800\" frameborder=\"0\">\n",
       "      </iframe>\n",
       "      <script>\n",
       "        (function() {\n",
       "          const frame = document.getElementById(\"tensorboard-frame-7c1aecdc9535547c\");\n",
       "          const url = new URL(\"/\", window.location);\n",
       "          url.port = 6006;\n",
       "          frame.src = url;\n",
       "        })();\n",
       "      </script>\n",
       "  "
      ],
      "text/plain": [
       "<IPython.core.display.HTML object>"
      ]
     },
     "metadata": {},
     "output_type": "display_data"
    }
   ],
   "source": [
    "%tensorboard --logdir logs"
   ]
  }
 ],
 "metadata": {
  "kernelspec": {
   "display_name": "bundle-rep",
   "language": "python",
   "name": "bundle-rep"
  },
  "language_info": {
   "codemirror_mode": {
    "name": "ipython",
    "version": 3
   },
   "file_extension": ".py",
   "mimetype": "text/x-python",
   "name": "python",
   "nbconvert_exporter": "python",
   "pygments_lexer": "ipython3",
   "version": "3.6.9"
  }
 },
 "nbformat": 4,
 "nbformat_minor": 2
}
